{
  "nbformat": 4,
  "nbformat_minor": 0,
  "metadata": {
    "colab": {
      "provenance": [],
      "authorship_tag": "ABX9TyPBDTpqVq98Sj7cA5ouf741",
      "include_colab_link": true
    },
    "kernelspec": {
      "name": "python3",
      "display_name": "Python 3"
    },
    "language_info": {
      "name": "python"
    }
  },
  "cells": [
    {
      "cell_type": "markdown",
      "metadata": {
        "id": "view-in-github",
        "colab_type": "text"
      },
      "source": [
        "<a href=\"https://colab.research.google.com/github/Vmbayo/c4-quiz1/blob/main/1_Python_fundamentals.ipynb\" target=\"_parent\"><img src=\"https://colab.research.google.com/assets/colab-badge.svg\" alt=\"Open In Colab\"/></a>"
      ]
    },
    {
      "cell_type": "code",
      "execution_count": null,
      "metadata": {
        "colab": {
          "base_uri": "https://localhost:8080/"
        },
        "collapsed": true,
        "id": "IdFWlp2Cc__Y",
        "outputId": "0f1cd026-ba28-4c58-a9e7-84548789461f"
      },
      "outputs": [
        {
          "output_type": "execute_result",
          "data": {
            "text/plain": [
              "9"
            ]
          },
          "metadata": {},
          "execution_count": 3
        }
      ],
      "source": [
        "2+2 +5"
      ]
    },
    {
      "cell_type": "code",
      "source": [
        "cook = 1\n",
        "Cook = 2\n",
        "cook\n",
        "Cook = 3\n",
        "print(Cook)\n"
      ],
      "metadata": {
        "colab": {
          "base_uri": "https://localhost:8080/"
        },
        "id": "_mc6---Idigv",
        "outputId": "03641b01-54a2-4ce4-e970-e753fcaa256d"
      },
      "execution_count": null,
      "outputs": [
        {
          "output_type": "stream",
          "name": "stdout",
          "text": [
            "3\n"
          ]
        }
      ]
    },
    {
      "cell_type": "code",
      "source": [
        "\n",
        "X = \"Hello\"\n",
        "Y = \"World\"\n",
        "Greeting = 'Hello, World'\n",
        "print(Greeting)\n",
        "my_wife = 'Mellisa Mbayo'\n",
        "print(my_wife)"
      ],
      "metadata": {
        "colab": {
          "base_uri": "https://localhost:8080/"
        },
        "id": "negUG9aojWhP",
        "outputId": "62e179ba-1800-4d41-faa6-f95d714a216b"
      },
      "execution_count": null,
      "outputs": [
        {
          "output_type": "stream",
          "name": "stdout",
          "text": [
            "Hello, World\n",
            "Mellisa Mbayo\n"
          ]
        }
      ]
    },
    {
      "cell_type": "code",
      "source": [
        "# prompt: make prediction model for a disease\n",
        "\n",
        "import pandas as pd\n",
        "from sklearn.model_selection import train_test_split\n",
        "from sklearn.linear_model import LogisticRegression\n",
        "from sklearn.metrics import accuracy_score\n",
        "\n",
        "# Assuming you have a CSV file named 'disease_data.csv' with features and target variable\n",
        "# Replace 'disease_data.csv' with your actual file name\n",
        "data = pd.read_csv('disease_data.csv')\n",
        "\n",
        "# Define features (X) and target variable (y)\n",
        "X = data.drop('disease', axis=1)  # Replace 'disease' with your target column name\n",
        "y = data['disease']\n",
        "\n",
        "# Split data into training and testing sets\n",
        "X_train, X_test, y_train, y_test = train_test_split(X, y, test_size=0.2, random_state=42)\n",
        "\n",
        "# Create and train the model (Logistic Regression in this example)\n",
        "model = LogisticRegression()\n",
        "model.fit(X_train, y_train)\n",
        "\n",
        "# Make predictions on the test set\n",
        "y_pred = model.predict(X_test)\n",
        "\n",
        "# Evaluate the model\n",
        "accuracy = accuracy_score(y_test, y_pred)\n",
        "print(\"Accuracy:\", accuracy)\n",
        "\n",
        "# You can now use the trained model to make predictions on new data\n",
        "# For example:\n",
        "# new_data = pd.DataFrame({'feature1': [value1], 'feature2': [value2], ...})\n",
        "# prediction = model.predict(new_data)\n",
        "# print(\"Prediction:\", prediction)"
      ],
      "metadata": {
        "id": "ijwqmQZosJIh"
      },
      "execution_count": null,
      "outputs": []
    },
    {
      "cell_type": "code",
      "source": [],
      "metadata": {
        "id": "oLErSBAbtBFQ"
      },
      "execution_count": null,
      "outputs": []
    },
    {
      "cell_type": "code",
      "source": [
        "print(X,Y)"
      ],
      "metadata": {
        "colab": {
          "base_uri": "https://localhost:8080/"
        },
        "id": "ZVWnTpf5kRN2",
        "outputId": "43a042e6-905a-45a1-95f1-4cf3a316efc1"
      },
      "execution_count": null,
      "outputs": [
        {
          "output_type": "stream",
          "name": "stdout",
          "text": [
            "Hello World\n"
          ]
        }
      ]
    },
    {
      "cell_type": "code",
      "source": [
        "weight_kg = 60"
      ],
      "metadata": {
        "id": "2koIBE8Qg9xT"
      },
      "execution_count": null,
      "outputs": []
    },
    {
      "cell_type": "code",
      "source": [
        "Weight_lb = 2.2 * weight_kg\n",
        "print(Weight_lb)"
      ],
      "metadata": {
        "colab": {
          "base_uri": "https://localhost:8080/"
        },
        "id": "AeVg50dklO8D",
        "outputId": "4d197148-1997-4eb3-ed21-eb29e83aec24"
      },
      "execution_count": null,
      "outputs": [
        {
          "output_type": "stream",
          "name": "stdout",
          "text": [
            "132.0\n"
          ]
        }
      ]
    },
    {
      "cell_type": "code",
      "source": [
        "patient_id = '001'\n",
        "print(patient_id)"
      ],
      "metadata": {
        "colab": {
          "base_uri": "https://localhost:8080/"
        },
        "id": "aGeT6itNtOMQ",
        "outputId": "1f9dfe91-4cc9-4150-caa9-d1d531c5731b"
      },
      "execution_count": null,
      "outputs": [
        {
          "output_type": "stream",
          "name": "stdout",
          "text": [
            "001\n"
          ]
        }
      ]
    },
    {
      "cell_type": "code",
      "source": [
        "patient_id = \"inflam_\" + patient_id\n",
        "print(patient_id)"
      ],
      "metadata": {
        "colab": {
          "base_uri": "https://localhost:8080/"
        },
        "id": "0q922fUPuHEI",
        "outputId": "68f74996-3fff-4b43-b664-718c6ecadead"
      },
      "execution_count": null,
      "outputs": [
        {
          "output_type": "stream",
          "name": "stdout",
          "text": [
            "inflam_inflam_inflam_inflam_inflam_inflama_001\n"
          ]
        }
      ]
    },
    {
      "cell_type": "code",
      "source": [
        "patient = \"new\" + str(1)\n",
        "print(patient)"
      ],
      "metadata": {
        "colab": {
          "base_uri": "https://localhost:8080/"
        },
        "id": "a0VHw-4SvsGJ",
        "outputId": "f25bdd73-3f11-4122-8b36-640ecbbbc9f4"
      },
      "execution_count": null,
      "outputs": [
        {
          "output_type": "stream",
          "name": "stdout",
          "text": [
            "new1\n"
          ]
        }
      ]
    },
    {
      "cell_type": "code",
      "source": [
        "print(patient_id, \"weight in kilograms\", weight_kg)"
      ],
      "metadata": {
        "colab": {
          "base_uri": "https://localhost:8080/"
        },
        "id": "p3_1O1-wxG6k",
        "outputId": "01c2b1ab-2fc0-420c-e04b-86d795af6c0c"
      },
      "execution_count": null,
      "outputs": [
        {
          "output_type": "stream",
          "name": "stdout",
          "text": [
            "inflam_inflam_inflam_inflam_inflam_inflama_001 weight in kilograms 60\n"
          ]
        }
      ]
    },
    {
      "cell_type": "code",
      "source": [
        "print(type(60 ))\n",
        "print(type(patient_id))\n",
        "print(type(weight_kg))"
      ],
      "metadata": {
        "colab": {
          "base_uri": "https://localhost:8080/"
        },
        "id": "HfXXAzmdywR-",
        "outputId": "1db210e8-13d0-4d0a-eba1-417af4c894d7"
      },
      "execution_count": null,
      "outputs": [
        {
          "output_type": "stream",
          "name": "stdout",
          "text": [
            "<class 'int'>\n",
            "<class 'str'>\n",
            "<class 'int'>\n"
          ]
        }
      ]
    },
    {
      "cell_type": "code",
      "source": [
        "print(2.2 * weight_kg)"
      ],
      "metadata": {
        "colab": {
          "base_uri": "https://localhost:8080/"
        },
        "id": "tLNteISlzg37",
        "outputId": "1554b397-de8d-4a50-aae1-74deaf921695"
      },
      "execution_count": null,
      "outputs": [
        {
          "output_type": "stream",
          "name": "stdout",
          "text": [
            "132.0\n"
          ]
        }
      ]
    },
    {
      "cell_type": "code",
      "source": [
        "print(\"the weight in pounds is 132 lb\")"
      ],
      "metadata": {
        "colab": {
          "base_uri": "https://localhost:8080/"
        },
        "id": "cBaGUHp_0CRm",
        "outputId": "d22e46b2-df47-45ef-fd96-0f5c90f92a0f"
      },
      "execution_count": null,
      "outputs": [
        {
          "output_type": "stream",
          "name": "stdout",
          "text": [
            "the weight in pounds is 132 lb\n"
          ]
        }
      ]
    },
    {
      "cell_type": "code",
      "source": [
        "print(\"the weight in pounds\", 2.2*weight_kg, \"in lb\")"
      ],
      "metadata": {
        "colab": {
          "base_uri": "https://localhost:8080/"
        },
        "id": "qLzksYl10MNr",
        "outputId": "a86ae86f-570f-4365-dac5-4c19b9c081a2"
      },
      "execution_count": null,
      "outputs": [
        {
          "output_type": "stream",
          "name": "stdout",
          "text": [
            "the weight in pounds 132.0 in lb\n"
          ]
        }
      ]
    },
    {
      "cell_type": "code",
      "source": [
        "print(\"the weight in pounds\" + str(2.2*weight_kg), \"in lb\")"
      ],
      "metadata": {
        "colab": {
          "base_uri": "https://localhost:8080/"
        },
        "id": "cJbCSLw70pMr",
        "outputId": "240eb3ad-05c5-4b8c-e385-fe6be934faf6"
      },
      "execution_count": null,
      "outputs": [
        {
          "output_type": "stream",
          "name": "stdout",
          "text": [
            "the weight in pounds132.0 in lb\n"
          ]
        }
      ]
    },
    {
      "cell_type": "code",
      "source": [],
      "metadata": {
        "id": "i1bFvZWp0rM8"
      },
      "execution_count": null,
      "outputs": []
    },
    {
      "cell_type": "code",
      "source": [
        "Patient = 'NEW'\n",
        "Number = 1\n",
        "Output = patient + str(1)\n",
        "print(Output)"
      ],
      "metadata": {
        "colab": {
          "base_uri": "https://localhost:8080/"
        },
        "id": "CO_aYscjyXND",
        "outputId": "f56070c1-0196-4b1f-a13f-813be5162ea8"
      },
      "execution_count": null,
      "outputs": [
        {
          "output_type": "stream",
          "name": "stdout",
          "text": [
            "new11\n"
          ]
        }
      ]
    },
    {
      "cell_type": "code",
      "source": [
        "Patient = 'Topollo'\n",
        "Number = 1\n",
        "Output = patient + str(1)\n",
        "print(Output)"
      ],
      "metadata": {
        "colab": {
          "base_uri": "https://localhost:8080/"
        },
        "id": "qvfJd5-z1cWp",
        "outputId": "744143b1-10ef-4dec-ff71-befd2c04aa2a"
      },
      "execution_count": null,
      "outputs": [
        {
          "output_type": "stream",
          "name": "stdout",
          "text": [
            "new11\n"
          ]
        }
      ]
    },
    {
      "cell_type": "code",
      "source": [
        "Patient = 'Topollo'\n",
        "id = 3\n",
        "Output = patient + str(1)\n",
        "print(Output)"
      ],
      "metadata": {
        "colab": {
          "base_uri": "https://localhost:8080/"
        },
        "id": "FcsNYxi214pb",
        "outputId": "24af8340-01a2-44fa-8115-01b8030711bb"
      },
      "execution_count": null,
      "outputs": [
        {
          "output_type": "stream",
          "name": "stdout",
          "text": [
            "new11\n"
          ]
        }
      ]
    },
    {
      "cell_type": "code",
      "source": [
        "Patient_name = 'Topollo'\n",
        "id = 5\n",
        "patient_id = patient + str(id)\n",
        "print(patient_id)"
      ],
      "metadata": {
        "colab": {
          "base_uri": "https://localhost:8080/"
        },
        "id": "z9SagEDz2D2z",
        "outputId": "dfb5b10e-3af5-44ff-9850-915c60af65c8"
      },
      "execution_count": null,
      "outputs": [
        {
          "output_type": "stream",
          "name": "stdout",
          "text": [
            "new15\n"
          ]
        }
      ]
    },
    {
      "cell_type": "code",
      "source": [
        "number = 1\n",
        "number = number + 1\n",
        "print(number)"
      ],
      "metadata": {
        "colab": {
          "base_uri": "https://localhost:8080/"
        },
        "id": "1HSV5U8buO9x",
        "outputId": "6327f7e7-90fb-4ec3-975e-67ee1bd85272"
      },
      "execution_count": null,
      "outputs": [
        {
          "output_type": "stream",
          "name": "stdout",
          "text": [
            "2\n"
          ]
        }
      ]
    },
    {
      "cell_type": "code",
      "source": [
        "2+2+weight_kg"
      ],
      "metadata": {
        "colab": {
          "base_uri": "https://localhost:8080/"
        },
        "id": "sSN61IA5hNzA",
        "outputId": "4a004da1-b916-435a-a5c5-fea4e295787f"
      },
      "execution_count": null,
      "outputs": [
        {
          "output_type": "execute_result",
          "data": {
            "text/plain": [
              "64"
            ]
          },
          "metadata": {},
          "execution_count": 10
        }
      ]
    },
    {
      "cell_type": "code",
      "source": [
        "print(weight_kg)"
      ],
      "metadata": {
        "colab": {
          "base_uri": "https://localhost:8080/"
        },
        "id": "C2gLNO5thj_C",
        "outputId": "2e03dade-d857-46d7-b3e2-3553f0d1ac5b"
      },
      "execution_count": null,
      "outputs": [
        {
          "output_type": "stream",
          "name": "stdout",
          "text": [
            "60\n"
          ]
        }
      ]
    },
    {
      "cell_type": "code",
      "source": [
        "print(cook)"
      ],
      "metadata": {
        "colab": {
          "base_uri": "https://localhost:8080/"
        },
        "id": "NyDP53_Jh6vu",
        "outputId": "2bfcf22a-8b62-4047-ad33-21bf0bc9ee54"
      },
      "execution_count": null,
      "outputs": [
        {
          "output_type": "stream",
          "name": "stdout",
          "text": [
            "1\n"
          ]
        }
      ]
    },
    {
      "cell_type": "code",
      "source": [
        "mass = 47.5\n",
        "age = 122\n",
        "mass = mass * 2.0\n",
        "age = age - 20"
      ],
      "metadata": {
        "id": "r89xc_e4ijFo"
      },
      "execution_count": null,
      "outputs": []
    },
    {
      "cell_type": "code",
      "source": [
        "print(mass)"
      ],
      "metadata": {
        "colab": {
          "base_uri": "https://localhost:8080/"
        },
        "id": "lZL5KECDi4G6",
        "outputId": "4a5e044b-0040-47db-fede-d5052ce756c9"
      },
      "execution_count": null,
      "outputs": [
        {
          "output_type": "stream",
          "name": "stdout",
          "text": [
            "95.0\n"
          ]
        }
      ]
    },
    {
      "cell_type": "code",
      "source": [
        "print(mass, age)"
      ],
      "metadata": {
        "colab": {
          "base_uri": "https://localhost:8080/"
        },
        "id": "OBsdCiDA5VYr",
        "outputId": "5dae1d5f-13d0-43a6-bb42-255664362d16"
      },
      "execution_count": null,
      "outputs": [
        {
          "output_type": "stream",
          "name": "stdout",
          "text": [
            "95.0 102\n"
          ]
        }
      ]
    },
    {
      "cell_type": "code",
      "source": [
        "print(age)"
      ],
      "metadata": {
        "colab": {
          "base_uri": "https://localhost:8080/"
        },
        "id": "2Am8mNXhi_sQ",
        "outputId": "975af350-d626-4d52-8e67-f110ba312943"
      },
      "execution_count": null,
      "outputs": [
        {
          "output_type": "stream",
          "name": "stdout",
          "text": [
            "102\n"
          ]
        }
      ]
    },
    {
      "cell_type": "code",
      "source": [
        "first = 'Grace'\n",
        "second = 'Hopper'\n",
        "third = first + second\n",
        "print(third)\n",
        "\n",
        "first, second = 'Grace', 'Hopper'\n",
        "third, forth = second, first\n",
        "print(third, forth)\n"
      ],
      "metadata": {
        "colab": {
          "base_uri": "https://localhost:8080/"
        },
        "id": "8oE_micD5d2u",
        "outputId": "d803a475-7f25-4f17-8aad-e61d6ba98beb"
      },
      "execution_count": null,
      "outputs": [
        {
          "output_type": "stream",
          "name": "stdout",
          "text": [
            "GraceHopper\n",
            "Hopper Grace\n"
          ]
        }
      ]
    },
    {
      "cell_type": "code",
      "source": [
        "planet = 'Earth'\n",
        "apples = 5\n",
        "distance = 10.5\n",
        "\n",
        "print(type(planet))\n",
        "print(type(apples))\n",
        "print(type(distance))"
      ],
      "metadata": {
        "colab": {
          "base_uri": "https://localhost:8080/"
        },
        "id": "PQJe3aUV64DD",
        "outputId": "adc5aec6-dbe4-4002-b0bf-f7ea385a8a8e"
      },
      "execution_count": null,
      "outputs": [
        {
          "output_type": "stream",
          "name": "stdout",
          "text": [
            "<class 'str'>\n",
            "<class 'int'>\n",
            "<class 'float'>\n"
          ]
        }
      ]
    },
    {
      "cell_type": "code",
      "source": [
        "```python\n",
        "import pandas as pd\n",
        "from rdkit import Chem\n",
        "from rdkit.Chem import AllChem\n",
        "import os\n",
        "\n",
        "def extract_smiles(chemical_name):\n",
        "    \"\"\"Extracts SMILES from a chemical name using RDKit.\"\"\"\n",
        "    try:\n",
        "        mol = Chem.MolFromName(chemical_name)\n",
        "        if mol:\n",
        "            return Chem.MolToSmiles(mol)\n",
        "        else:\n",
        "            return None\n",
        "    except:\n",
        "        return None\n",
        "\n",
        "def download_3d_structure(smiles, output_folder, chemical_name):\n",
        "    \"\"\"Downloads the 3D structure of a chemical given its SMILES.\"\"\"\n",
        "    if smiles:\n",
        "        mol = Chem.MolFromSmiles(smiles)\n",
        "        if mol:\n",
        "            mol = Chem.AddHs(mol)\n",
        "            AllChem.EmbedMolecule(mol)\n",
        "            AllChem.MMFFOptimizeMolecule(mol)\n",
        "            output_path = os.path.join(output_folder, f\"{chemical_name}.sdf\")\n",
        "            writer = Chem.SDWriter(output_path)\n",
        "            writer.write(mol)\n",
        "            writer.close()\n",
        "\n",
        "\n",
        "# Read the Excel workbook\n",
        "excel_file_path = \"\\Users\\vmbay\\OneDrive/ -/ University/ of/ Johannesburg\\VMBAYO/ PHD/ COMPCHEMCODING/ SCRIPTS\\Annona_muricata\"  # Replace with your Excel file path\n",
        "df = pd.read_excel(excel_file_path)\n",
        "\n",
        "# Extract SMILES for each chemical name\n",
        "df['SMILES'] = df['Chemical Name'].apply(extract_smiles)\n",
        "\n",
        "# Remove duplicates based on SMILES\n",
        "df = df.drop_duplicates(subset=['SMILES'], keep='first')\n",
        "\n",
        "# Create the output folder if it doesn't exist\n",
        "output_folder = \"Annona_muricata\"\n",
        "os.makedirs(output_folder, exist_ok=True)\n",
        "\n",
        "# Download 3D structures for each unique SMILES\n",
        "for index, row in df.iterrows():\n",
        "    chemical_name = row['Chemical Name']\n",
        "    smiles = row['SMILES']\n",
        "    download_3d_structure(smiles, output_folder, chemical_name)\n",
        "\n",
        "\n",
        "print(\"SMILES extraction and 3D structure download complete!\")\n",
        "```\n",
        "\n",
        "**Explanation:**\n",
        "\n",
        "1. **Import necessary libraries:** `pandas` for reading Excel files, `rdkit` for chemistry functions.\n",
        "2. **`extract_smiles` function:** Takes a chemical name and returns the corresponding SMILES string using `Chem.MolFromName` and `Chem.MolToSmiles` from RDKit.\n",
        "3. **`download_3d_structure` function:**\n",
        "   - Takes a SMILES string, output folder path, and chemical name as input.\n",
        "   - Creates a 3D structure from the SMILES using RDKit's functions like `Chem.AddHs`, `AllChem.EmbedMolecule`, and `AllChem.MMFFOptimizeMolecule`.\n",
        "   - Saves the 3D structure as an SDF file in the specified output folder.\n",
        "4. **Read Excel data:** Reads the Excel file using `pd.read_excel`.\n",
        "5. **Extract SMILES:** Applies the `extract_smiles` function to the \"Chemical Name\" column to create a new 'SMILES' column.\n",
        "6. **Remove duplicate SMILES:** Uses `df.drop_duplicates(subset=['SMILES'], keep='first')` to remove rows with the same SMILES, keeping only the first occurrence.\n",
        "7. **Create output folder:** Creates the \"Annona_muricata\" folder if it doesn't exist.\n",
        "8. **Download 3D structures:** Iterates through the DataFrame and calls `download_3d_structure` for each row to generate and save the 3D structure in the specified folder.\n",
        "\n",
        "**Note:**\n",
        "- Replace `\"\\Users\\vmbay\\OneDrive/ -/ University/ of/ Johannesburg\\VMBAYO/ PHD/ COMPCHEMCODING/ SCRIPTS\\Annona_muricata\"` with the actual path to your Excel file.\n",
        "- Make sure you have RDKit installed (`pip install rdkit`)."
      ],
      "metadata": {
        "id": "d4rSrE5j7i8R",
        "colab": {
          "base_uri": "https://localhost:8080/",
          "height": 124
        },
        "outputId": "3b8480ee-d8c5-4751-c4a4-bf37672a285d"
      },
      "execution_count": null,
      "outputs": [
        {
          "output_type": "error",
          "ename": "SyntaxError",
          "evalue": "invalid decimal literal (<ipython-input-3-a4dba4096f41>, line 1)",
          "traceback": [
            "\u001b[0;36m  File \u001b[0;32m\"<ipython-input-3-a4dba4096f41>\"\u001b[0;36m, line \u001b[0;32m1\u001b[0m\n\u001b[0;31m    create a code to extract smiles for each chemical name in an excel workbook and download the 3D structures of each chemical. if there are duplicates in the smiles for different chemical names, remove them. input the code to remove them. store the downloaded 3D structures in a folder called Annona_muricata\u001b[0m\n\u001b[0m                                                                                                 ^\u001b[0m\n\u001b[0;31mSyntaxError\u001b[0m\u001b[0;31m:\u001b[0m invalid decimal literal\n"
          ]
        }
      ]
    },
    {
      "cell_type": "code",
      "source": [
        "# prompt: I have an csv excel workbook with chemical names of compounds. create a code to search these chemical names from PubChem database and extract the corresponding SMILES, CID number, and create columns to add CID number and SMILES the same excel sheet. extract the 3D stuctures of  these compounds and download them into a folder called Annonamuricata\n",
        "\n",
        "import pandas as pd\n",
        "from rdkit import Chem\n",
        "from rdkit.Chem import AllChem\n",
        "import os\n",
        "import pubchempy as pcp\n",
        "\n",
        "\n",
        "def get_pubchem_info(chemical_name):\n",
        "    \"\"\"Searches PubChem for a chemical name and returns CID and SMILES.\"\"\"\n",
        "    try:\n",
        "        compound = pcp.get_compounds(chemical_name, 'name')[0]\n",
        "        return compound.cid, compound.canonical_smiles\n",
        "    except:\n",
        "        return None, None\n",
        "\n",
        "def download_3d_structure(cid, output_folder, chemical_name):\n",
        "    \"\"\"Downloads the 3D structure of a compound from PubChem.\"\"\"\n",
        "    if cid:\n",
        "        try:\n",
        "            compound = pcp.Compound.from_cid(cid)\n",
        "            mol = Chem.MolFromSmiles(compound.canonical_smiles)\n",
        "            if mol:\n",
        "                mol = Chem.AddHs(mol)\n",
        "                AllChem.EmbedMolecule(mol)\n",
        "                AllChem.MMFFOptimizeMolecule(mol)\n",
        "                output_path = os.path.join(output_folder, f\"{chemical_name}.sdf\")\n",
        "                writer = Chem.SDWriter(output_path)\n",
        "                writer.write(mol)\n",
        "                writer.close()\n",
        "        except:\n",
        "            print(f\"Error downloading 3D structure for {chemical_name}\")\n",
        "\n",
        "\n",
        "# Read the Excel workbook\n",
        "excel_file_path = \"\\Users\\vmbay\\OneDrive/ -/ University/ of/ Johannesburg\\VMBAYO/ PHD/ COMPCHEMCODING/ SCRIPTS\\Annona_muricata\"  # Replace with your Excel file path\n",
        "df = pd.read_excel(excel_file_path)\n",
        "\n",
        "# Extract CID and SMILES for each chemical name\n",
        "df['CID'], df['SMILES'] = zip(*df['Chemical Name'].apply(get_pubchem_info))\n",
        "\n",
        "# Create the output folder if it doesn't exist\n",
        "output_folder = \"Annona_muricata\"\n",
        "os.makedirs(output_folder, exist_ok=True)\n",
        "\n",
        "# Download 3D structures for each compound\n",
        "for index, row in df.iterrows():\n",
        "    chemical_name = row['Chemical Name']\n",
        "    cid = row['CID']\n",
        "    download_3d_structure(cid, output_folder, chemical_name)\n",
        "\n",
        "# Save the updated Excel file\n",
        "df.to_excel(\"your_excel_file_updated.xlsx\", index=False)\n",
        "\n",
        "print(\"SMILES extraction, CID retrieval, and 3D structure download complete!\")"
      ],
      "metadata": {
        "colab": {
          "base_uri": "https://localhost:8080/",
          "height": 106
        },
        "id": "sHhtTlGFbtXn",
        "outputId": "b7e769c8-bbc3-436a-8978-e6ff5fbb3ce1"
      },
      "execution_count": null,
      "outputs": [
        {
          "output_type": "error",
          "ename": "SyntaxError",
          "evalue": "(unicode error) 'unicodeescape' codec can't decode bytes in position 0-1: truncated \\UXXXXXXXX escape (<ipython-input-17-aeb577bf1844>, line 37)",
          "traceback": [
            "\u001b[0;36m  File \u001b[0;32m\"<ipython-input-17-aeb577bf1844>\"\u001b[0;36m, line \u001b[0;32m37\u001b[0m\n\u001b[0;31m    excel_file_path = \"\\Users\\vmbay\\OneDrive/ -/ University/ of/ Johannesburg\\VMBAYO/ PHD/ COMPCHEMCODING/ SCRIPTS\\Annona_muricata\"  # Replace with your Excel file path\u001b[0m\n\u001b[0m                                                                                                                                     ^\u001b[0m\n\u001b[0;31mSyntaxError\u001b[0m\u001b[0;31m:\u001b[0m (unicode error) 'unicodeescape' codec can't decode bytes in position 0-1: truncated \\UXXXXXXXX escape\n"
          ]
        }
      ]
    },
    {
      "cell_type": "code",
      "source": [
        "import pandas as pd\n",
        "from rdkit import Chem\n",
        "from rdkit.Chem import AllChem\n",
        "import os\n",
        "import pubchempy as pcp\n",
        "\n",
        "\n",
        "def get_pubchem_info(chemical_name):\n",
        "    \"\"\"Searches PubChem for a chemical name and returns CID and SMILES.\"\"\"\n",
        "    try:\n",
        "        compound = pcp.get_compounds(chemical_name, 'name')[0]\n",
        "        return compound.cid, compound.canonical_smiles\n",
        "    except:\n",
        "        return None, None\n",
        "\n",
        "def download_3d_structure(cid, output_folder, chemical_name):\n",
        "    \"\"\"Downloads the 3D structure of a compound from PubChem.\"\"\"\n",
        "    if cid:\n",
        "        try:\n",
        "            compound = pcp.Compound.from_cid(cid)\n",
        "            mol = Chem.MolFromSmiles(compound.canonical_smiles)\n",
        "            if mol:\n",
        "                mol = Chem.AddHs(mol)\n",
        "                AllChem.EmbedMolecule(mol)\n",
        "                AllChem.MMFFOptimizeMolecule(mol)\n",
        "                output_path = os.path.join(output_folder, f\"{chemical_name}.sdf\")\n",
        "                writer = Chem.SDWriter(output_path)\n",
        "                writer.write(mol)\n",
        "                writer.close()\n",
        "        except:\n",
        "            print(f\"Error downloading 3D structure for {chemical_name}\")\n",
        "\n",
        "\n",
        "```python\n",
        "import pandas as pd\n",
        "from rdkit import Chem\n",
        "from rdkit.Chem import AllChem\n",
        "import os\n",
        "import pubchempy as pcp\n",
        "\n",
        "\n",
        "def get_pubchem_info(chemical_name):\n",
        "    \"\"\"Searches PubChem for a chemical name and returns CID and SMILES.\"\"\"\n",
        "    try:\n",
        "        compound = pcp.get_compounds(chemical_name, 'name')[0]\n",
        "        return compound.cid, compound.canonical_smiles\n",
        "    except:\n",
        "        return None, None\n",
        "\n",
        "def download_3d_structure(cid, output_folder, chemical_name):\n",
        "    \"\"\"Downloads the 3D structure of a compound from PubChem.\"\"\"\n",
        "    if cid:\n",
        "        try:\n",
        "            compound = pcp.Compound.from_cid(cid)\n",
        "            mol = Chem.MolFromSmiles(compound.canonical_smiles)\n",
        "            if mol:\n",
        "                mol = Chem.AddHs(mol)\n",
        "                AllChem.EmbedMolecule(mol)\n",
        "                AllChem.MMFFOptimizeMolecule(mol)\n",
        "                output_path = os.path.join(output_folder, f\"{chemical_name}.sdf\")\n",
        "                writer = Chem.SDWriter(output_path)\n",
        "                writer.write(mol)\n",
        "                writer.close()\n",
        "        except:\n",
        "            print(f\"Error downloading 3D structure for {chemical_name}\")\n",
        "\n",
        "\n",
        "# Read the Excel\n",
        "\n",
        "excel_file_path = r\"C:\\Users\\vmbay\\OneDrive - University of Johannesburg\\VMBAYO\\PHD\\COMPCHEMCODING\\SCRIPTS\\Annona_muricata\"  # Replace with your Excel file path\n",
        "df = pd.read_excel(excel_file_path)\n",
        "\n",
        "# Extract CID and SMILES for each chemical name\n",
        "df['CID'], df['SMILES'] = zip(*df['Chemical Name'].apply(get_pubchem_info))\n",
        "\n",
        "# Create the output folder if it doesn't exist\n",
        "output_folder = \"Annona_muricata\"\n",
        "os.makedirs(output_folder, exist_ok=True)\n",
        "\n",
        "# Download 3D structures for each compound\n",
        "for index, row in df.iterrows():\n",
        "    chemical_name = row['Chemical Name']\n",
        "    cid = row['CID']\n",
        "    download_3d_structure(cid, output_folder, chemical_name)\n",
        "\n",
        "# Save the updated Excel file\n",
        "df.to_excel(\"your_excel_file_updated.xlsx\", index=False)\n",
        "\n",
        "print(\"SMILES extraction, CID retrieval, and 3D structure download complete!\")\n",
        "\n",
        "```\n",
        "# Extract CID and SMILES for each chemical name\n",
        "df['CID'], df['SMILES'] = zip(*df['Chemical Name'].apply(get_pubchem_info))\n",
        "\n",
        "# Create the output folder if it doesn't exist\n",
        "output_folder = \"Annona_muricata\"\n",
        "os.makedirs(output_folder, exist_ok=True)\n",
        "\n",
        "# Download 3D structures for each compound\n",
        "for index, row in df.iterrows():\n",
        "    chemical_name = row['Chemical Name']\n",
        "    cid = row['CID']\n",
        "    download_3d_structure(cid, output_folder, chemical_name)\n",
        "\n",
        "# Save the updated Excel file\n",
        "df.to_excel(\"your_excel_file_updated.xlsx\", index=False)\n",
        "\n",
        "print(\"SMILES extraction, CID retrieval, and 3D structure download complete!\")"
      ],
      "metadata": {
        "colab": {
          "base_uri": "https://localhost:8080/"
        },
        "id": "sRCnKlN3imHl",
        "outputId": "e65a553e-f291-45e5-8970-9244449b0fff"
      },
      "execution_count": null,
      "outputs": [
        {
          "output_type": "error",
          "ename": "SyntaxError",
          "evalue": "(unicode error) 'unicodeescape' codec can't decode bytes in position 0-1: truncated \\UXXXXXXXX escape (<ipython-input-18-b63edd9bf7b1>, line 36)",
          "traceback": [
            "\u001b[0;36m  File \u001b[0;32m\"<ipython-input-18-b63edd9bf7b1>\"\u001b[0;36m, line \u001b[0;32m36\u001b[0m\n\u001b[0;31m    excel_file_path = \"\\Users\\vmbay\\OneDrive/ -/ University/ of/ Johannesburg\\VMBAYO/ PHD/ COMPCHEMCODING/ SCRIPTS\\Annona_muricata\"  # Replace with your Excel file path\u001b[0m\n\u001b[0m                                                                                                                                     ^\u001b[0m\n\u001b[0;31mSyntaxError\u001b[0m\u001b[0;31m:\u001b[0m (unicode error) 'unicodeescape' codec can't decode bytes in position 0-1: truncated \\UXXXXXXXX escape\n"
          ]
        }
      ]
    },
    {
      "cell_type": "code",
      "source": [
        "pip install rdkit"
      ],
      "metadata": {
        "colab": {
          "base_uri": "https://localhost:8080/"
        },
        "id": "SRIB3c-Miz8I",
        "outputId": "3417ccdc-c591-47aa-856c-c26c4bce8ada"
      },
      "execution_count": null,
      "outputs": [
        {
          "output_type": "stream",
          "name": "stdout",
          "text": [
            "Collecting rdkit\n",
            "  Downloading rdkit-2024.3.6-cp310-cp310-manylinux_2_28_x86_64.whl.metadata (4.0 kB)\n",
            "Requirement already satisfied: numpy in /usr/local/lib/python3.10/dist-packages (from rdkit) (1.26.4)\n",
            "Requirement already satisfied: Pillow in /usr/local/lib/python3.10/dist-packages (from rdkit) (11.0.0)\n",
            "Downloading rdkit-2024.3.6-cp310-cp310-manylinux_2_28_x86_64.whl (32.8 MB)\n",
            "\u001b[2K   \u001b[90m━━━━━━━━━━━━━━━━━━━━━━━━━━━━━━━━━━━━━━━━\u001b[0m \u001b[32m32.8/32.8 MB\u001b[0m \u001b[31m30.8 MB/s\u001b[0m eta \u001b[36m0:00:00\u001b[0m\n",
            "\u001b[?25hInstalling collected packages: rdkit\n",
            "Successfully installed rdkit-2024.3.6\n"
          ]
        }
      ]
    },
    {
      "cell_type": "code",
      "source": [
        "pip install pubchempy"
      ],
      "metadata": {
        "colab": {
          "base_uri": "https://localhost:8080/"
        },
        "id": "aZsjVuD6ji0b",
        "outputId": "6d9113b7-76d3-46c9-b2ed-2282b45f5068"
      },
      "execution_count": null,
      "outputs": [
        {
          "output_type": "stream",
          "name": "stdout",
          "text": [
            "Collecting pubchempy\n",
            "  Downloading PubChemPy-1.0.4.tar.gz (29 kB)\n",
            "  Preparing metadata (setup.py) ... \u001b[?25l\u001b[?25hdone\n",
            "Building wheels for collected packages: pubchempy\n",
            "  Building wheel for pubchempy (setup.py) ... \u001b[?25l\u001b[?25hdone\n",
            "  Created wheel for pubchempy: filename=PubChemPy-1.0.4-py3-none-any.whl size=13819 sha256=3474cd0c0dcdb1634837fdb089d2cf875609ae5e48af2afb161974cff7f594a7\n",
            "  Stored in directory: /root/.cache/pip/wheels/90/7c/45/18a0671e3c3316966ef7ed9ad2b3f3300a7e41d3421a44e799\n",
            "Successfully built pubchempy\n",
            "Installing collected packages: pubchempy\n",
            "Successfully installed pubchempy-1.0.4\n"
          ]
        }
      ]
    }
  ]
}